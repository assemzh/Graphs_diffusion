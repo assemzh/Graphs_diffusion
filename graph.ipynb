{
 "cells": [
  {
   "cell_type": "code",
   "execution_count": 1,
   "metadata": {},
   "outputs": [],
   "source": [
    "import time\n",
    "import yaml\n",
    "import torch\n",
    "\n",
    "import scipy.sparse as sp\n",
    "import numpy as np\n",
    "import seaborn as sns\n",
    "import torch.nn.functional as F\n",
    "\n",
    "from tqdm.notebook import tqdm\n",
    "from torch.optim import Adam, Optimizer\n",
    "from collections import defaultdict\n",
    "from torch_geometric.data import Data, InMemoryDataset\n",
    "\n",
    "from data import get_dataset, HeatDataset, PPRDataset, set_train_val_test_split\n",
    "from models import GCN\n",
    "from seeds import val_seeds, test_seeds"
   ]
  },
  {
   "cell_type": "markdown",
   "metadata": {},
   "source": [
    "# GCN with GDC\n",
    "This notebook demonstrates how to enhance GCN with GDC."
   ]
  },
  {
   "cell_type": "markdown",
   "metadata": {},
   "source": [
    "## GDC\n",
    "At its core, preprocessing with GDC is just this function."
   ]
  },
  {
   "cell_type": "code",
   "execution_count": 2,
   "metadata": {},
   "outputs": [],
   "source": [
    "def gdc(A: sp.csr_matrix, alpha: float, eps: float):\n",
    "    N = A.shape[0]\n",
    "\n",
    "    # Self-loops\n",
    "    A_loop = sp.eye(N) + A\n",
    "\n",
    "    # Symmetric transition matrix\n",
    "    D_loop_vec = A_loop.sum(0).A1\n",
    "    D_loop_vec_invsqrt = 1 / np.sqrt(D_loop_vec)\n",
    "    D_loop_invsqrt = sp.diags(D_loop_vec_invsqrt)\n",
    "    T_sym = D_loop_invsqrt @ A_loop @ D_loop_invsqrt\n",
    "\n",
    "    # PPR-based diffusion\n",
    "    S = alpha * sp.linalg.inv(sp.eye(N) - (1 - alpha) * T_sym)\n",
    "\n",
    "    # Sparsify using threshold epsilon\n",
    "    S_tilde = S.multiply(S >= eps)\n",
    "\n",
    "    # Column-normalized transition matrix on graph S_tilde\n",
    "    D_tilde_vec = S_tilde.sum(0).A1\n",
    "    T_S = S_tilde / D_tilde_vec\n",
    "    \n",
    "    return T_S"
   ]
  },
  {
   "cell_type": "markdown",
   "metadata": {},
   "source": [
    "## Choose backend\n",
    "We will use the GPU in this notebook. If you want to use a CPU instead simply change this line to `cpu`."
   ]
  },
  {
   "cell_type": "code",
   "execution_count": 3,
   "metadata": {},
   "outputs": [],
   "source": [
    "device = 'cuda'"
   ]
  },
  {
   "cell_type": "markdown",
   "metadata": {},
   "source": [
    "## Load configuration\n",
    "The parameter settings for datasets and models as well as the training routine are stored in `config.yaml`."
   ]
  },
  {
   "cell_type": "code",
   "execution_count": 4,
   "metadata": {},
   "outputs": [],
   "source": [
    "with open('config.yaml', 'r') as c:\n",
    "    config = yaml.safe_load(c)"
   ]
  },
  {
   "cell_type": "markdown",
   "metadata": {},
   "source": [
    "## Load dataset and preprocess with GDC\n",
    "For convenience we will use a PyTorch Geometric InMemoryDataset in this notebook. `PPRDataset` (and `HeatDataset`) provide more flexibility and functionality than the above `gdc` method. However, their preprocessing is essentially the same."
   ]
  },
  {
   "cell_type": "code",
   "execution_count": 9,
   "metadata": {},
   "outputs": [],
   "source": [
    "datasets = {}\n",
    "\n",
    "kernels = ['SCCT_H','CCT_H','katz','Comm','CT_H','For_H','NHeat_H','SCT_H','ModifPPR_H','HeatPR','Abs']\n",
    "dataset_name = 'Cora'\n",
    "for preprocessing in ['none', 'heat', 'ppr']:\n",
    "    if preprocessing == 'none':\n",
    "        dataset = get_dataset(\n",
    "            name=dataset_name,\n",
    "            use_lcc=config['use_lcc']\n",
    "        )\n",
    "        dataset.data = dataset.data.to(device)\n",
    "        datasets[preprocessing] = dataset\n",
    "    elif preprocessing == 'heat':\n",
    "        dataset = HeatDataset(\n",
    "            name=dataset_name,\n",
    "            use_lcc=config['use_lcc'],\n",
    "            t=config[preprocessing]['t'],\n",
    "            k=config[preprocessing]['k'],\n",
    "            eps=config[preprocessing]['eps'],\n",
    "            kernel = 'heat'\n",
    "        )\n",
    "        dataset.data = dataset.data.to(device)\n",
    "        datasets[preprocessing] = dataset\n",
    "    elif preprocessing == 'ppr':\n",
    "        dataset = PPRDataset(\n",
    "            name=dataset_name,\n",
    "            use_lcc=config['use_lcc'],\n",
    "            alpha=config[preprocessing]['alpha'],\n",
    "            k=config[preprocessing]['k'],\n",
    "            eps=config[preprocessing]['eps']\n",
    "        )\n",
    "        dataset.data = dataset.data.to(device)\n",
    "        datasets[preprocessing] = dataset\n",
    "\n",
    "for kernel in kernels:\n",
    "    dataset = HeatDataset(\n",
    "            name=dataset_name,\n",
    "            use_lcc=config['use_lcc'],\n",
    "            t=config['heat']['t'],\n",
    "            k=config['heat']['k'],\n",
    "            eps=config['heat']['eps'],\n",
    "            kernel = kernel\n",
    "        )\n",
    "    dataset.data = dataset.data.to(device)\n",
    "    datasets[kernel] = dataset\n",
    "        "
   ]
  },
  {
   "cell_type": "markdown",
   "metadata": {},
   "source": [
    "## Create GCN models"
   ]
  },
  {
   "cell_type": "code",
   "execution_count": 22,
   "metadata": {},
   "outputs": [],
   "source": [
    "models = {}\n",
    "\n",
    "for preprocessing, dataset in datasets.items():\n",
    "    if preprocessing in ['none', 'ppr']:\n",
    "        models[preprocessing] = GCN(\n",
    "            dataset,\n",
    "            hidden=config[preprocessing]['hidden_layers'] * [config[preprocessing]['hidden_units']],\n",
    "            dropout=config[preprocessing]['dropout']\n",
    "        ).to(device)\n",
    "    else:\n",
    "        models[preprocessing] = GCN(\n",
    "            dataset,\n",
    "            hidden=config['heat']['hidden_layers'] * [config['heat']['hidden_units']],\n",
    "            dropout=config['heat']['dropout']\n",
    "        ).to(device)"
   ]
  },
  {
   "cell_type": "markdown",
   "metadata": {},
   "source": [
    "## Train model"
   ]
  },
  {
   "cell_type": "code",
   "execution_count": 24,
   "metadata": {},
   "outputs": [],
   "source": [
    "def train(model: torch.nn.Module, optimizer: Optimizer, data: Data):\n",
    "    model.train()\n",
    "    optimizer.zero_grad()\n",
    "    logits = model(data)\n",
    "    loss = F.nll_loss(logits[data.train_mask], data.y[data.train_mask])\n",
    "    loss.backward()\n",
    "    optimizer.step()"
   ]
  },
  {
   "cell_type": "code",
   "execution_count": 25,
   "metadata": {},
   "outputs": [],
   "source": [
    "def evaluate(model: torch.nn.Module, data: Data, test: bool):\n",
    "    model.eval()\n",
    "    with torch.no_grad():\n",
    "        logits = model(data)\n",
    "    eval_dict = {}\n",
    "    keys = ['val', 'test'] if test else ['val']\n",
    "    for key in keys:\n",
    "        mask = data[f'{key}_mask']\n",
    "        # loss = F.nll_loss(logits[mask], data.y[mask]).item()\n",
    "        # eval_dict[f'{key}_loss'] = loss\n",
    "        pred = logits[mask].max(1)[1]\n",
    "        acc = pred.eq(data.y[mask]).sum().item() / mask.sum().item()\n",
    "        eval_dict[f'{key}_acc'] = acc\n",
    "    return eval_dict"
   ]
  },
  {
   "cell_type": "code",
   "execution_count": null,
   "metadata": {},
   "outputs": [],
   "source": [
    "def run(dataset: InMemoryDataset,\n",
    "        model: torch.nn.Module,\n",
    "        seeds: np.ndarray,\n",
    "        test: bool = False,\n",
    "        max_epochs: int = 10000,\n",
    "        patience: int = 100,\n",
    "        lr: float = 0.01,\n",
    "        weight_decay: float = 0.01,\n",
    "        num_development: int = 1500,\n",
    "        device: str = 'cuda'):\n",
    "    start_time = time.perf_counter()\n",
    "\n",
    "    best_dict = defaultdict(list)\n",
    "\n",
    "    cnt = 0\n",
    "    for seed in tqdm(seeds):\n",
    "        dataset.data = set_train_val_test_split(\n",
    "            seed,\n",
    "            dataset.data,\n",
    "            num_development=num_development,\n",
    "        ).to(device)\n",
    "        model.to(device).reset_parameters()\n",
    "        optimizer = Adam(\n",
    "            [\n",
    "                {'params': model.non_reg_params, 'weight_decay': 0},\n",
    "                {'params': model.reg_params, 'weight_decay': weight_decay}\n",
    "            ],\n",
    "            lr=lr\n",
    "        )\n",
    "\n",
    "        patience_counter = 0\n",
    "        tmp_dict = {'val_acc': 0}\n",
    "\n",
    "        for epoch in range(1, max_epochs + 1):\n",
    "            if patience_counter == patience:\n",
    "                break\n",
    "\n",
    "            train(model, optimizer, dataset.data)\n",
    "            eval_dict = evaluate(model, dataset.data, test)\n",
    "\n",
    "            if eval_dict['val_acc'] < tmp_dict['val_acc']:\n",
    "                patience_counter += 1\n",
    "            else:\n",
    "                patience_counter = 0\n",
    "                tmp_dict['epoch'] = epoch\n",
    "                for k, v in eval_dict.items():\n",
    "                    tmp_dict[k] = v\n",
    "\n",
    "        for k, v in tmp_dict.items():\n",
    "            best_dict[k].append(v)\n",
    "            \n",
    "    best_dict['duration'] = time.perf_counter() - start_time\n",
    "    return dict(best_dict)"
   ]
  },
  {
   "cell_type": "markdown",
   "metadata": {},
   "source": [
    "We are training the models 100 times on different splits, so this will take a couple of minutes."
   ]
  },
  {
   "cell_type": "code",
   "execution_count": 16,
   "metadata": {},
   "outputs": [
    {
     "data": {
      "application/vnd.jupyter.widget-view+json": {
       "model_id": "2d81f7b5883b431b8854f54f3087933e",
       "version_major": 2,
       "version_minor": 0
      },
      "text/plain": [
       "  0%|          | 0/100 [00:00<?, ?it/s]"
      ]
     },
     "metadata": {},
     "output_type": "display_data"
    },
    {
     "data": {
      "application/vnd.jupyter.widget-view+json": {
       "model_id": "108c4ca3ba70482f84849665152b2dce",
       "version_major": 2,
       "version_minor": 0
      },
      "text/plain": [
       "  0%|          | 0/100 [00:00<?, ?it/s]"
      ]
     },
     "metadata": {},
     "output_type": "display_data"
    },
    {
     "data": {
      "application/vnd.jupyter.widget-view+json": {
       "model_id": "2c3dd1edc3fc44789d46e8b2257c5dc3",
       "version_major": 2,
       "version_minor": 0
      },
      "text/plain": [
       "  0%|          | 0/100 [00:00<?, ?it/s]"
      ]
     },
     "metadata": {},
     "output_type": "display_data"
    }
   ],
   "source": [
    "results = {}\n",
    "\n",
    "for preprocessing in ['none','heat','ppr']:\n",
    "# for preprocessing in ['heat']:\n",
    "    results[preprocessing] = run(\n",
    "        datasets[preprocessing],\n",
    "        models[preprocessing],\n",
    "        seeds=test_seeds if config['test'] else val_seeds,\n",
    "        lr=config[preprocessing]['lr'],\n",
    "        weight_decay=config[preprocessing]['weight_decay'],\n",
    "        test=config['test'],\n",
    "        num_development=config['num_development'],\n",
    "        device=device\n",
    "    )"
   ]
  },
  {
   "cell_type": "code",
   "execution_count": 50,
   "metadata": {},
   "outputs": [
    {
     "data": {
      "application/vnd.jupyter.widget-view+json": {
       "model_id": "5ad5087ef91447af93274bdcd0a8086f",
       "version_major": 2,
       "version_minor": 0
      },
      "text/plain": [
       "  0%|          | 0/20 [00:00<?, ?it/s]"
      ]
     },
     "metadata": {},
     "output_type": "display_data"
    },
    {
     "name": "stdout",
     "output_type": "stream",
     "text": [
      "SCCT_H: Mean accuracy: 82.60 +- 0.82%\n"
     ]
    },
    {
     "data": {
      "application/vnd.jupyter.widget-view+json": {
       "model_id": "0b0d3b9cd0b64159b6d1d49309dab916",
       "version_major": 2,
       "version_minor": 0
      },
      "text/plain": [
       "  0%|          | 0/20 [00:00<?, ?it/s]"
      ]
     },
     "metadata": {},
     "output_type": "display_data"
    },
    {
     "name": "stdout",
     "output_type": "stream",
     "text": [
      "CCT_H: Mean accuracy: 82.59 +- 1.24%\n"
     ]
    },
    {
     "data": {
      "application/vnd.jupyter.widget-view+json": {
       "model_id": "cbacb5430226483faf937532782347ee",
       "version_major": 2,
       "version_minor": 0
      },
      "text/plain": [
       "  0%|          | 0/20 [00:00<?, ?it/s]"
      ]
     },
     "metadata": {},
     "output_type": "display_data"
    },
    {
     "name": "stdout",
     "output_type": "stream",
     "text": [
      "katz: Mean accuracy: 82.64 +- 1.21%\n"
     ]
    },
    {
     "data": {
      "application/vnd.jupyter.widget-view+json": {
       "model_id": "7077160cf4ef4a35993d18b8cdecb8d1",
       "version_major": 2,
       "version_minor": 0
      },
      "text/plain": [
       "  0%|          | 0/20 [00:00<?, ?it/s]"
      ]
     },
     "metadata": {},
     "output_type": "display_data"
    },
    {
     "name": "stdout",
     "output_type": "stream",
     "text": [
      "Comm: Mean accuracy: 82.84 +- 1.04%\n"
     ]
    },
    {
     "data": {
      "application/vnd.jupyter.widget-view+json": {
       "model_id": "9a0994e7da16483b8150757102323c67",
       "version_major": 2,
       "version_minor": 0
      },
      "text/plain": [
       "  0%|          | 0/20 [00:00<?, ?it/s]"
      ]
     },
     "metadata": {},
     "output_type": "display_data"
    },
    {
     "name": "stdout",
     "output_type": "stream",
     "text": [
      "CT_H: Mean accuracy: 82.53 +- 1.16%\n"
     ]
    },
    {
     "data": {
      "application/vnd.jupyter.widget-view+json": {
       "model_id": "4a780f0a5b6944b08ea3a0d14f3cd791",
       "version_major": 2,
       "version_minor": 0
      },
      "text/plain": [
       "  0%|          | 0/20 [00:00<?, ?it/s]"
      ]
     },
     "metadata": {},
     "output_type": "display_data"
    },
    {
     "name": "stdout",
     "output_type": "stream",
     "text": [
      "For_H: Mean accuracy: 82.58 +- 1.21%\n"
     ]
    },
    {
     "data": {
      "application/vnd.jupyter.widget-view+json": {
       "model_id": "2e4097bcffb14c34a8df65834d871bb9",
       "version_major": 2,
       "version_minor": 0
      },
      "text/plain": [
       "  0%|          | 0/20 [00:00<?, ?it/s]"
      ]
     },
     "metadata": {},
     "output_type": "display_data"
    },
    {
     "name": "stdout",
     "output_type": "stream",
     "text": [
      "NHeat_H: Mean accuracy: 82.48 +- 1.18%\n"
     ]
    },
    {
     "data": {
      "application/vnd.jupyter.widget-view+json": {
       "model_id": "21e103fe6b3a4e3da6dc751833085257",
       "version_major": 2,
       "version_minor": 0
      },
      "text/plain": [
       "  0%|          | 0/20 [00:00<?, ?it/s]"
      ]
     },
     "metadata": {},
     "output_type": "display_data"
    },
    {
     "name": "stdout",
     "output_type": "stream",
     "text": [
      "SCT_H: Mean accuracy: 82.52 +- 0.99%\n"
     ]
    },
    {
     "data": {
      "application/vnd.jupyter.widget-view+json": {
       "model_id": "f9c10de27fad43afbc2f7bbbab01b300",
       "version_major": 2,
       "version_minor": 0
      },
      "text/plain": [
       "  0%|          | 0/20 [00:00<?, ?it/s]"
      ]
     },
     "metadata": {},
     "output_type": "display_data"
    },
    {
     "name": "stdout",
     "output_type": "stream",
     "text": [
      "ModifPPR_H: Mean accuracy: 82.83 +- 1.11%\n"
     ]
    },
    {
     "data": {
      "application/vnd.jupyter.widget-view+json": {
       "model_id": "1ed6ce6e860f4f26b140ea3919a01eca",
       "version_major": 2,
       "version_minor": 0
      },
      "text/plain": [
       "  0%|          | 0/20 [00:00<?, ?it/s]"
      ]
     },
     "metadata": {},
     "output_type": "display_data"
    },
    {
     "name": "stdout",
     "output_type": "stream",
     "text": [
      "HeatPR: Mean accuracy: 82.68 +- 1.09%\n"
     ]
    },
    {
     "data": {
      "application/vnd.jupyter.widget-view+json": {
       "model_id": "809ad8f7a39f47409498a96530668377",
       "version_major": 2,
       "version_minor": 0
      },
      "text/plain": [
       "  0%|          | 0/20 [00:00<?, ?it/s]"
      ]
     },
     "metadata": {},
     "output_type": "display_data"
    },
    {
     "name": "stdout",
     "output_type": "stream",
     "text": [
      "Abs: Mean accuracy: 82.39 +- 0.96%\n"
     ]
    }
   ],
   "source": [
    "for preprocessing in kernels:\n",
    "# for preprocessing in ['heat']:\n",
    "    results[preprocessing] = run(\n",
    "        datasets[preprocessing],\n",
    "        models[preprocessing],\n",
    "        seeds=test_seeds[:20] if config['test'] else val_seeds,\n",
    "        lr=config['heat']['lr'],\n",
    "        weight_decay=config['heat']['weight_decay'],\n",
    "        test=config['test'],\n",
    "        num_development=config['num_development'],\n",
    "        device=device\n",
    "    )\n",
    "    mean_acc = results[preprocessing]['test_acc']\n",
    "    print(f\"{preprocessing}: Mean accuracy: {100 * np.mean(mean_acc):.2f} +- {100 * np.std(mean_acc):.2f}%\")\n"
   ]
  },
  {
   "cell_type": "markdown",
   "metadata": {},
   "source": [
    "## Evaluate result"
   ]
  },
  {
   "cell_type": "markdown",
   "metadata": {},
   "source": [
    "Calculate statistics using bootstrapping."
   ]
  },
  {
   "cell_type": "raw",
   "metadata": {},
   "source": [
    "for _, best_dict in results.items():\n",
    "    boots_series = sns.algorithms.bootstrap(best_dict['val_acc'], func=np.mean, n_boot=1000)\n",
    "    best_dict['val_acc_ci'] = np.max(np.abs(sns.utils.ci(boots_series, 95) - np.mean(best_dict['val_acc'])))\n",
    "    if 'test_acc' in best_dict:\n",
    "        boots_series = sns.algorithms.bootstrap(best_dict['test_acc'], func=np.mean, n_boot=1000)\n",
    "        best_dict['test_acc_ci'] = np.max(\n",
    "            np.abs(sns.utils.ci(boots_series, 95) - np.mean(best_dict['test_acc']))\n",
    "        )\n",
    "\n",
    "    for k, v in best_dict.items():\n",
    "        if 'acc_ci' not in k and k != 'duration':\n",
    "            best_dict[k] = np.mean(best_dict[k])"
   ]
  },
  {
   "cell_type": "markdown",
   "metadata": {},
   "source": [
    "# Cora"
   ]
  },
  {
   "cell_type": "code",
   "execution_count": 53,
   "metadata": {},
   "outputs": [
    {
     "name": "stdout",
     "output_type": "stream",
     "text": [
      "none: Mean accuracy: 81.75 +- 0.25%\n",
      "heat: Mean accuracy: 83.18 +- 0.21%\n",
      "ppr: Mean accuracy: 83.20 +- 0.21%\n",
      "SCCT_H: Mean accuracy: 82.60 +- 0.82%\n",
      "CCT_H: Mean accuracy: 82.59 +- 1.24%\n",
      "katz: Mean accuracy: 82.64 +- 1.21%\n",
      "Comm: Mean accuracy: 82.84 +- 1.04%\n",
      "CT_H: Mean accuracy: 82.53 +- 1.16%\n",
      "For_H: Mean accuracy: 82.58 +- 1.21%\n",
      "NHeat_H: Mean accuracy: 82.48 +- 1.18%\n",
      "SCT_H: Mean accuracy: 82.52 +- 0.99%\n",
      "ModifPPR_H: Mean accuracy: 82.83 +- 1.11%\n",
      "HeatPR: Mean accuracy: 82.68 +- 1.09%\n",
      "Abs: Mean accuracy: 82.39 +- 0.96%\n"
     ]
    }
   ],
   "source": [
    "# Abs\n",
    "results_plot = {}\n",
    "for preprocessing in ['none','heat','ppr']:\n",
    "    mean_acc = results[preprocessing]['test_acc']\n",
    "    uncertainty = results[preprocessing]['test_acc_ci']\n",
    "    print(f\"{preprocessing}: Mean accuracy: {100 * mean_acc:.2f} +- {100 * uncertainty:.2f}%\")\n",
    "    results_plot[preprocessing] = 100 * mean_acc\n",
    "for preprocessing in kernels:\n",
    "    mean_acc = results[preprocessing]['test_acc']\n",
    "#     uncertainty = results[preprocessing]['test_acc_ci']\n",
    "    results_plot[preprocessing] = 100 * np.mean(mean_acc)\n",
    "    print(f\"{preprocessing}: Mean accuracy: {100 * np.mean(mean_acc):.2f} +- {100 * np.std(mean_acc):.2f}%\")\n"
   ]
  },
  {
   "cell_type": "code",
   "execution_count": 62,
   "metadata": {},
   "outputs": [],
   "source": [
    "df = pd.DataFrame(results_plot.items(), columns=['Kernel', 'Accuracy'])"
   ]
  },
  {
   "cell_type": "code",
   "execution_count": 63,
   "metadata": {},
   "outputs": [],
   "source": [
    "import matplotlib \n",
    "import seaborn as sns \n",
    "import matplotlib.pyplot as plt\n",
    "import pandas as pd\n",
    "import numpy as np"
   ]
  },
  {
   "cell_type": "code",
   "execution_count": 81,
   "metadata": {},
   "outputs": [
    {
     "data": {
      "image/png": "[encoded data removed]",
      "text/plain": [
       "<Figure size 1200x400 with 1 Axes>"
      ]
     },
     "metadata": {},
     "output_type": "display_data"
    }
   ],
   "source": [
    "plt.figure(figsize=(12,4))\n",
    "# make barplot and sort bars in descending order\n",
    "g = sns.barplot(x='Kernel', \n",
    "            y=\"Accuracy\", \n",
    "            data=df, \n",
    "            order=df.sort_values('Accuracy',ascending = False).Kernel)\n",
    "# set labels\n",
    "ax=g\n",
    "#annotate axis = seaborn axis\n",
    "for p in ax.patches:\n",
    "    ax.annotate(\"%.2f\" % p.get_height(), (p.get_x() + p.get_width() / 2., p.get_height()),\n",
    "                ha='center', va='center', fontsize=11, color='gray', xytext=(0, 20),\n",
    "                textcoords='offset points')\n",
    "_ = g.set_ylim(0,120) #To make space for the annotations\n",
    "\n",
    "plt.ylabel(\"Accuracy %\", size=15)\n",
    "plt.xlabel(\"Kernel\", size=15)\n",
    "plt.title(\"Cora Dataset\", size=18)\n",
    "plt.ylim(81, 84)\n",
    "plt.tight_layout()\n",
    "plt.savefig(\"/home/assem/gdc/Cora.png\", dpi=100)\n",
    "plt.show()\n"
   ]
  },
  {
   "cell_type": "code",
   "execution_count": null,
   "metadata": {},
   "outputs": [],
   "source": []
  }
 ],
 "metadata": {
  "kernelspec": {
   "display_name": "py38",
   "language": "python",
   "name": "py38"
  },
  "language_info": {
   "codemirror_mode": {
    "name": "ipython",
    "version": 3
   },
   "file_extension": ".py",
   "mimetype": "text/x-python",
   "name": "python",
   "nbconvert_exporter": "python",
   "pygments_lexer": "ipython3",
   "version": "3.8.10"
  }
 },
 "nbformat": 4,
 "nbformat_minor": 4
}
